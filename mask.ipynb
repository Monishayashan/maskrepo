{
 "cells": [
  {
   "cell_type": "code",
   "execution_count": 1,
   "source": [
    "def mask(): \r\n",
    "    import cv2\r\n",
    "    import numpy as np \r\n",
    "    net_mask = cv2.dnn.readNet(\"yolov3_mask_last.weights\", \"yolov3_mask.cfg\")\r\n",
    "    classes_mask = []\r\n",
    "    with open(\"coco -1.names\", \"r\") as f:\r\n",
    "        classes_mask = [line.strip() for line in f.readlines()]  \r\n",
    "        layer_names_mask = net_mask.getLayerNames()\r\n",
    "        output_layer_mask = [layer_names_mask[i[0] - 1] for i in net_mask.getUnconnectedOutLayers()]\r\n",
    "        while True:\r\n",
    "            re,img = video_capture.read()\r\n",
    "            img = cv2.resize(img, None, fx=0.4, fy=0.4)\r\n",
    "            height, width, channels = img.shape\r\n",
    "            blob = cv2.dnn.blobFromImage(img, 1 / 255.0, (416, 416),  swapRB=True, crop=False)\r\n",
    "            net_mask.setInput(blob)\r\n",
    "            outs = net_mask.forward(output_layer_mask)\r\n",
    "            class_ids_mask = []\r\n",
    "            confidences_mask = []\r\n",
    "            boxes_mask = []     \r\n",
    "            for out in outs:\r\n",
    "                for detection in out:\r\n",
    "                    scores_mask = detection[5:]\r\n",
    "                    class_id_mask = np.argmax(scores_mask)\r\n",
    "                    confidence_mask = scores_mask[class_id_mask]\r\n",
    "                    if confidence_mask > 0.5:\r\n",
    "                        center_x = int(detection[0] * width)\r\n",
    "                        center_y = int(detection[1] * height)\r\n",
    "                        w = int(detection[2] * width)\r\n",
    "                        h = int(detection[3] * height)\r\n",
    "                        x = int(center_x - w / 2)\r\n",
    "                        y = int(center_y - h / 2)\r\n",
    "                        boxes_mask.append([x, y, w, h])\r\n",
    "                        confidences_mask.append(float(confidence_mask))\r\n",
    "                        class_ids_mask.append(class_id_mask)                \r\n",
    "            indexes_mask = cv2.dnn.NMSBoxes(boxes_mask, confidences_mask, 0.5, 0.4)\r\n",
    "            font = cv2.FONT_HERSHEY_PLAIN\r\n",
    "            colors = np.random.uniform(0, 255, size=(len(classes_mask), 3))\r\n",
    "            for i in range(len(boxes_mask)):\r\n",
    "                if i in indexes_mask:\r\n",
    "                    x, y, w, h = boxes_mask[i]\r\n",
    "                    label_mask = str(classes_mask[class_ids_mask[i]])\r\n",
    "                    if(label_mask=='Mask weared partially'):\r\n",
    "                        label_mask='No mask'\r\n",
    " \r\n",
    "                    c=str(confidences_mask[i])\r\n",
    "                    color = colors[class_ids_mask[i]]\r\n",
    "                    cv2.rectangle(img, (x, y), (x + w, y + h), color, 2)\r\n",
    "                    cv2.putText(img, label_mask, (x, y -5),cv2.FONT_HERSHEY_SIMPLEX, 1, color, 3)\r\n",
    "            cv2.imshow(\"object detection\",cv2.resize(img, (800,600)))\r\n",
    "            if cv2.waitKey(500):\r\n",
    "                break\r\n",
    "\r\n"
   ],
   "outputs": [],
   "metadata": {}
  },
  {
   "cell_type": "code",
   "execution_count": 2,
   "source": [
    "\r\n",
    "import cv2\r\n",
    "import numpy as np \r\n",
    "import math"
   ],
   "outputs": [
    {
     "output_type": "stream",
     "name": "stdout",
     "text": [
      "Requirement already satisfied: opencv-python in c:\\programdata\\anaconda3\\lib\\site-packages (4.5.2.54)\n",
      "Requirement already satisfied: numpy>=1.17.3 in c:\\programdata\\anaconda3\\lib\\site-packages (from opencv-python) (1.20.1)\n"
     ]
    }
   ],
   "metadata": {}
  },
  {
   "cell_type": "code",
   "execution_count": 3,
   "source": [
    "net = cv2.dnn.readNet(\"yolov3.weights\", \"yolov3.cfg\")"
   ],
   "outputs": [],
   "metadata": {}
  },
  {
   "cell_type": "code",
   "execution_count": 4,
   "source": [
    "classes = []"
   ],
   "outputs": [],
   "metadata": {}
  },
  {
   "cell_type": "code",
   "execution_count": 5,
   "source": [
    "with open(\"coco.names\", \"r\") as f:\n",
    "    classes = [line.strip() for line in f.readlines()]  \n",
    "layer_names = net.getLayerNames()\n",
    "output_layers = [layer_names[i[0] - 1] for i in net.getUnconnectedOutLayers()]\n"
   ],
   "outputs": [],
   "metadata": {}
  },
  {
   "cell_type": "code",
   "execution_count": 6,
   "source": [
    "class_ids = []\n",
    "confidences = []\n",
    "boxes = []"
   ],
   "outputs": [],
   "metadata": {}
  },
  {
   "cell_type": "code",
   "execution_count": 7,
   "source": [
    "video_capture = cv2.VideoCapture(0)\n",
    "def make_1080p():\n",
    "    video_capture.set(3,1920)\n",
    "    video_capture.set(4,1080)\n",
    "def make_720p():\n",
    "    video_capture.set(3,1280)\n",
    "    video_capture.set(4,720)\n",
    "def make_480p():\n",
    "    video_capture.set(3,640)\n",
    "    video_capture.set(4,480)\n",
    "def change_res(width,height):\n",
    "    video_capture.set(3,width)\n",
    "    video_capture.set(4,height)\n",
    "make_720p()\n",
    "change_res(1280,720)"
   ],
   "outputs": [],
   "metadata": {}
  },
  {
   "cell_type": "code",
   "execution_count": null,
   "source": [
    "while True:\n",
    "    re,img = video_capture.read()\n",
    "    img = cv2.resize(img, None, fx=0.4, fy=0.4)\n",
    "    height, width, channels = img.shape\n",
    "    blob = cv2.dnn.blobFromImage(img, 1 / 255.0, (416, 416),  swapRB=True, crop=False)\n",
    "    net.setInput(blob)\n",
    "    outs = net.forward(output_layers)\n",
    "    class_ids = []\n",
    "    confidences = []\n",
    "    boxes = []\n",
    "    for out in outs:\n",
    "        for detection in out:\n",
    "            scores = detection[5:]\n",
    "            class_id = np.argmax(scores)\n",
    "            confidence = scores[class_id]\n",
    "            if confidence > 0.5:\n",
    "                \n",
    "                center_x = int(detection[0] * width)\n",
    "                center_y = int(detection[1] * height)\n",
    "                w = int(detection[2] * width)\n",
    "                h = int(detection[3] * height)\n",
    "               \n",
    "                x = int(center_x - w / 2)\n",
    "                y = int(center_y - h / 2)\n",
    "                boxes.append([x, y, w, h])\n",
    "                confidences.append(float(confidence))\n",
    "                class_ids.append(class_id)\n",
    "             \n",
    "    \n",
    "    indexes = cv2.dnn.NMSBoxes(boxes, confidences, 0.5, 0.4)\n",
    "   \n",
    "    font = cv2.FONT_HERSHEY_PLAIN\n",
    "    colors = np.random.uniform(0, 255, size=(len(classes), 3))\n",
    "    for i in range(len(boxes)):\n",
    "        if i in indexes:\n",
    "            x, y, w, h = boxes[i]\n",
    "            label = str(classes[class_ids[i]])\n",
    "            if label=='person':\n",
    "                mask()\n",
    "            c=str(confidences[i])\n",
    "            color = colors[class_ids[i]]\n",
    "            cv2.rectangle(img, (x, y), (x + w, y + h), color, 2)\n",
    "                      \n",
    "            cv2.putText(img, label, (x, y -10),cv2.FONT_HERSHEY_SIMPLEX, 1, color, 3)\n",
    "        cv2.imshow(\"object detection\",cv2.resize(img, (800,600)))\n",
    "   \n",
    "    if cv2.waitKey(1) == ord('q'):\n",
    "        break\n",
    "video_capture.release()\n",
    "cv2.destroyAllWindows();"
   ],
   "outputs": [],
   "metadata": {}
  },
  {
   "cell_type": "code",
   "execution_count": null,
   "source": [],
   "outputs": [],
   "metadata": {}
  },
  {
   "cell_type": "code",
   "execution_count": null,
   "source": [],
   "outputs": [],
   "metadata": {}
  }
 ],
 "metadata": {
  "kernelspec": {
   "display_name": "Python 3",
   "language": "python",
   "name": "python3"
  },
  "language_info": {
   "codemirror_mode": {
    "name": "ipython",
    "version": 3
   },
   "file_extension": ".py",
   "mimetype": "text/x-python",
   "name": "python",
   "nbconvert_exporter": "python",
   "pygments_lexer": "ipython3",
   "version": "3.8.8"
  }
 },
 "nbformat": 4,
 "nbformat_minor": 4
}